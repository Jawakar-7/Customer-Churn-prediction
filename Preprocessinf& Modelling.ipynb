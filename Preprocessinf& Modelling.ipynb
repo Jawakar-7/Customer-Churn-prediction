{
 "cells": [
  {
   "cell_type": "code",
   "execution_count": 2,
   "metadata": {},
   "outputs": [],
   "source": [
    "import pandas as pd\n",
    "import numpy as np\n",
    "import matplotlib.pyplot as plt\n",
    "import seaborn as sns \n",
    "import os\n",
    "import missingno as msno"
   ]
  },
  {
   "cell_type": "code",
   "execution_count": 3,
   "metadata": {},
   "outputs": [],
   "source": [
    "df=pd.read_csv('Base_Problem_DataSet.csv',low_memory=False)\n",
    "num_feat=[x for x in df.columns if df[x].dtype!='O']\n",
    "cat_feat=[x for x in df.columns if df[x].dtype=='O']\n",
    "\n",
    "#categorical values  that are wrongly flaagged as numericals\n"
   ]
  },
  {
   "cell_type": "markdown",
   "metadata": {},
   "source": [
    "# Preprocessing\n",
    "\n",
    "\n",
    "### Changing Improper Categories and Numerics"
   ]
  },
  {
   "cell_type": "code",
   "execution_count": 4,
   "metadata": {},
   "outputs": [],
   "source": [
    "imporoper_categories={ x:len(df[x].value_counts()) for x in cat_feat if len(df[x].value_counts())> 30 and  len(df[x].value_counts())!=58 }\n",
    "#numerical values  that are wrongly flaagged as categories\n",
    "improper_numeric={x:len(df[x].value_counts()) for x in num_feat if len(df[x].value_counts())< 30}\n",
    "num_feat.extend(imporoper_categories.keys())\n",
    "num_feat=[ x for x in num_feat if x not in improper_numeric]\n",
    "cat_feat.extend(improper_numeric.keys())\n",
    "cat_feat=[ x for x in cat_feat if x not in imporoper_categories]\n",
    "for i in imporoper_categories.keys() :\n",
    "    df[i].replace(['#VALUE!','@','#','x','$','&'],0,inplace=True)\n",
    "    df[i]=df[i].astype('float')\n",
    "for i in improper_numeric.keys():\n",
    "    df[i]=df[i].astype(object)"
   ]
  },
  {
   "cell_type": "code",
   "execution_count": null,
   "metadata": {},
   "outputs": [],
   "source": []
  }
 ],
 "metadata": {
  "kernelspec": {
   "display_name": "Python 3",
   "language": "python",
   "name": "python3"
  },
  "language_info": {
   "codemirror_mode": {
    "name": "ipython",
    "version": 3
   },
   "file_extension": ".py",
   "mimetype": "text/x-python",
   "name": "python",
   "nbconvert_exporter": "python",
   "pygments_lexer": "ipython3",
   "version": "3.9.0"
  }
 },
 "nbformat": 4,
 "nbformat_minor": 2
}
